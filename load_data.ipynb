{
 "cells": [
  {
   "cell_type": "code",
   "execution_count": 2,
   "metadata": {
    "collapsed": true
   },
   "outputs": [],
   "source": [
    "import pandas as pd\n",
    "import numpy as np\n",
    "import tensorflow as tf\n",
    "import json\n",
    "import os\n",
    "import pprint"
   ]
  },
  {
   "cell_type": "markdown",
   "metadata": {},
   "source": [
    "## Details of the data used\n",
    "\n",
    "The [Stanford Question Answering Dataset(SQuAD)](https://rajpurkar.github.io/SQuAD-explorer/) is used for this project. Data is in json format. The SQuAD data is divided into two files dev-v1.1.json and train-v1.1.json. Further details of data is\n",
    "\n",
    "### Dev-set \n",
    "\n",
    "- **version** : version of the dataset\n",
    "\n",
    "- **data** : main data having lists of dictionaries of the documents with keys\n",
    "    - **title** :  title of the document\n",
    "    - **paragraphs** : list of the dictionaries contains paragraphs of the document having title, 'title' with keys\n",
    "        - **context** : paragraph of 'title' document\n",
    "        - **qas** : list of the questions and answers from the paragraph 'context'\n",
    "            - **id** : id of the question\n",
    "            - **question** question from the paragraph 'context'\n",
    "            - **answers** : list of answers of the question having id 'id'\n",
    "                - **answers_start** : give starting character position of the answers from paragraph\n",
    "                - **text**          : text answer of question"
   ]
  },
  {
   "cell_type": "code",
   "execution_count": 5,
   "metadata": {},
   "outputs": [],
   "source": [
    "with open('data/download/squad/dev-v1.1.json') as jason_data:\n",
    "    data = json.load(jason_data)\n",
    "#     print(len(data['data']))\n",
    "    first_row_dict = data['data'][0]"
   ]
  },
  {
   "cell_type": "code",
   "execution_count": 6,
   "metadata": {},
   "outputs": [
    {
     "name": "stdout",
     "output_type": "stream",
     "text": [
      "[u'paragraphs', u'title']\n"
     ]
    }
   ],
   "source": [
    "print(first_row_dict.keys())"
   ]
  },
  {
   "cell_type": "code",
   "execution_count": 12,
   "metadata": {},
   "outputs": [
    {
     "name": "stdout",
     "output_type": "stream",
     "text": [
      "Super_Bowl_50\n",
      "[{u'answer_start': 177, u'text': u'Denver Broncos'},\n",
      " {u'answer_start': 177, u'text': u'Denver Broncos'},\n",
      " {u'answer_start': 177, u'text': u'Denver Broncos'}]\n"
     ]
    }
   ],
   "source": [
    "print(first_row_dict['title'])\n",
    "# print(first_row_dict['paragraphs'][0]['context'][977])\n",
    "pprint.pprint(first_row_dict['paragraphs'][0]['qas'][0]['answers'])"
   ]
  },
  {
   "cell_type": "code",
   "execution_count": null,
   "metadata": {
    "collapsed": true,
    "scrolled": false
   },
   "outputs": [],
   "source": []
  },
  {
   "cell_type": "code",
   "execution_count": null,
   "metadata": {
    "collapsed": true
   },
   "outputs": [],
   "source": []
  }
 ],
 "metadata": {
  "kernelspec": {
   "display_name": "Python 2",
   "language": "python",
   "name": "python2"
  },
  "language_info": {
   "codemirror_mode": {
    "name": "ipython",
    "version": 2
   },
   "file_extension": ".py",
   "mimetype": "text/x-python",
   "name": "python",
   "nbconvert_exporter": "python",
   "pygments_lexer": "ipython2",
   "version": "2.7.14"
  }
 },
 "nbformat": 4,
 "nbformat_minor": 2
}
